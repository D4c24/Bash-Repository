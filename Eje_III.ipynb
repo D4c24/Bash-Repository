{
  "nbformat": 4,
  "nbformat_minor": 0,
  "metadata": {
    "colab": {
      "name": "Eje III.ipynb",
      "provenance": [],
      "authorship_tag": "ABX9TyOubdkUh5QmF+ZjU8CoPoF5",
      "include_colab_link": true
    },
    "kernelspec": {
      "name": "python3",
      "display_name": "Python 3"
    }
  },
  "cells": [
    {
      "cell_type": "markdown",
      "metadata": {
        "id": "view-in-github",
        "colab_type": "text"
      },
      "source": [
        "<a href=\"https://colab.research.google.com/github/D4c24/Bash-Repository/blob/master/Eje_III.ipynb\" target=\"_parent\"><img src=\"https://colab.research.google.com/assets/colab-badge.svg\" alt=\"Open In Colab\"/></a>"
      ]
    },
    {
      "cell_type": "markdown",
      "metadata": {
        "id": "TX_97ZyCI4hv",
        "colab_type": "text"
      },
      "source": [
        "#Corporacion Universitaria del Area Andina\n",
        "Taller Eje III\n",
        "\n",
        "David Callejas Bonilla\n",
        "\n",
        "Faultad de ingenieria\n"
      ]
    },
    {
      "cell_type": "code",
      "metadata": {
        "id": "7l5pWkutcxfd",
        "colab_type": "code",
        "colab": {
          "base_uri": "https://localhost:8080/",
          "height": 370
        },
        "outputId": "6d5a410d-acb7-40f5-a8fa-838c05a35940"
      },
      "source": [
        "!pip install tensorflow"
      ],
      "execution_count": 2,
      "outputs": [
        {
          "output_type": "stream",
          "text": [
            "Requirement already satisfied: tensorflow in /tensorflow-1.15.0/python3.6 (1.15.0)\n",
            "Requirement already satisfied: opt-einsum>=2.3.2 in /usr/local/lib/python3.6/dist-packages (from tensorflow) (3.2.0)\n",
            "Requirement already satisfied: six>=1.10.0 in /usr/local/lib/python3.6/dist-packages (from tensorflow) (1.12.0)\n",
            "Requirement already satisfied: termcolor>=1.1.0 in /usr/local/lib/python3.6/dist-packages (from tensorflow) (1.1.0)\n",
            "Requirement already satisfied: keras-applications>=1.0.8 in /usr/local/lib/python3.6/dist-packages (from tensorflow) (1.0.8)\n",
            "Requirement already satisfied: absl-py>=0.7.0 in /usr/local/lib/python3.6/dist-packages (from tensorflow) (0.9.0)\n",
            "Requirement already satisfied: protobuf>=3.6.1 in /usr/local/lib/python3.6/dist-packages (from tensorflow) (3.10.0)\n",
            "Requirement already satisfied: gast==0.2.2 in /usr/local/lib/python3.6/dist-packages (from tensorflow) (0.2.2)\n",
            "Requirement already satisfied: astor>=0.6.0 in /usr/local/lib/python3.6/dist-packages (from tensorflow) (0.8.1)\n",
            "Requirement already satisfied: google-pasta>=0.1.6 in /usr/local/lib/python3.6/dist-packages (from tensorflow) (0.2.0)\n",
            "Requirement already satisfied: tensorboard<1.16.0,>=1.15.0 in /tensorflow-1.15.0/python3.6 (from tensorflow) (1.15.0)\n",
            "Requirement already satisfied: tensorflow-estimator==1.15.1 in /tensorflow-1.15.0/python3.6 (from tensorflow) (1.15.1)\n",
            "Requirement already satisfied: numpy<2.0,>=1.16.0 in /usr/local/lib/python3.6/dist-packages (from tensorflow) (1.18.2)\n",
            "Requirement already satisfied: wheel>=0.26 in /usr/local/lib/python3.6/dist-packages (from tensorflow) (0.34.2)\n",
            "Requirement already satisfied: grpcio>=1.8.6 in /usr/local/lib/python3.6/dist-packages (from tensorflow) (1.24.3)\n",
            "Requirement already satisfied: wrapt>=1.11.1 in /usr/local/lib/python3.6/dist-packages (from tensorflow) (1.12.1)\n",
            "Requirement already satisfied: keras-preprocessing>=1.0.5 in /usr/local/lib/python3.6/dist-packages (from tensorflow) (1.1.0)\n",
            "Requirement already satisfied: h5py in /usr/local/lib/python3.6/dist-packages (from keras-applications>=1.0.8->tensorflow) (2.8.0)\n",
            "Requirement already satisfied: setuptools in /usr/local/lib/python3.6/dist-packages (from protobuf>=3.6.1->tensorflow) (46.0.0)\n",
            "Requirement already satisfied: werkzeug>=0.11.15 in /usr/local/lib/python3.6/dist-packages (from tensorboard<1.16.0,>=1.15.0->tensorflow) (1.0.0)\n",
            "Requirement already satisfied: markdown>=2.6.8 in /usr/local/lib/python3.6/dist-packages (from tensorboard<1.16.0,>=1.15.0->tensorflow) (3.2.1)\n"
          ],
          "name": "stdout"
        }
      ]
    },
    {
      "cell_type": "markdown",
      "metadata": {
        "id": "OiCbG_FIL2ky",
        "colab_type": "text"
      },
      "source": [
        "## Escenario\n",
        "Proceso: fabricacion de rejillas a partir de una bobina de alambre.\n",
        "El proceso mencionado anteriormente consta de varias etapas las cuales tienen subprocesos propios, dichas etapas son las siguientes:  \n",
        "Trefilado, enderezado, corte, ensamble, prueba de calidad, pintura y embalaje\n",
        "\n",
        "Teniendo en cuenta lo anterior se pueden tomar metricas de cada proceso que se lleva a cabo en la fabricacion del proceso, y con estas metricas construir un modelo seguido de varias simulaciones.\n",
        "\n",
        "Con los resultados que se obtengan y el modelo de simulacion se puede realizar un estudio para optimizar procesos."
      ]
    },
    {
      "cell_type": "code",
      "metadata": {
        "id": "ZziJAjSMIznl",
        "colab_type": "code",
        "colab": {}
      },
      "source": [
        "import tensorflow as tf\n",
        "import numpy as np\n",
        "from tensorflow import keras\n"
      ],
      "execution_count": 0,
      "outputs": []
    },
    {
      "cell_type": "markdown",
      "metadata": {
        "id": "L6p6gZflI3qj",
        "colab_type": "text"
      },
      "source": [
        "##Metricas\n",
        "###Trefilado:\n",
        "\n",
        "En el proceso de trefilado se obtienen las siguientes metricas en cuanto a tiempo y el porcentaje de fallas:\n",
        "\n",
        "Tiempo: 1.8 s\n",
        "\n",
        "Fallas: 1 %\n",
        "\n",
        "###Enderezado:\n",
        "\n",
        "En el proceso de enderezado se obtienen las siguientes metricas en cuanto a tiempo y el porcentaje de fallas:\n",
        "\n",
        "Tiempo: 1.1 s\n",
        "\n",
        "Fallas: 2.5 %\n",
        "\n",
        "###Corte:\n",
        "\n",
        "En el proceso de corte se obtienen las siguientes metricas en cuanto a tiempo y el porcentaje de fallas:\n",
        "\n",
        "Tiempo: 0.9 s\n",
        "\n",
        "Fallas: 0.7%\n",
        "\n",
        "###Ensamble:\n",
        "\n",
        "En el proceso de ensamble se obtienen las siguientes metricas en cuanto a tiempo y el porcentaje de fallas:\n",
        "\n",
        "Tiempo: 2.1 s\n",
        "\n",
        "Fallas: 3.1%\n",
        "\n",
        "###Prueba de calidad:\n",
        "\n",
        "En el proceso de prueba de calidad se obtienen las siguientes metricas en cuanto a tiempo:\n",
        "\n",
        "Tiempo: 1.3 s\n",
        "\n",
        "###Pintura:\n",
        "\n",
        "En el proceso de pintura se obtienen las siguientes metricas en cuanto a tiempo:\n",
        "\n",
        "Tiempo: 2.0 s\n",
        "\n",
        "###Embalaje:\n",
        "\n",
        "En el proceso de embalaje se obtienen las siguientes metricas en cuanto a tiempo:\n",
        "\n",
        "Tiempo: 0.9 s"
      ]
    },
    {
      "cell_type": "markdown",
      "metadata": {
        "id": "kk9ibGsoh2AH",
        "colab_type": "text"
      },
      "source": [
        "##Analisis\n",
        "En todo proceso de machine learning se utiliza como input los datos a analizar y un grupo de respuestas para que el programa realice sus respectivas simulaciones y nos envie una respuesta. Para esto se procede a realizar algunos calculos utilizando python, dichos datos seran el input del modelo de simulacion que se esta planteando."
      ]
    },
    {
      "cell_type": "code",
      "metadata": {
        "id": "M6HeVfrVnWsX",
        "colab_type": "code",
        "colab": {
          "base_uri": "https://localhost:8080/",
          "height": 67
        },
        "outputId": "e2a63b70-b5ae-469a-9f17-2396295ddd49"
      },
      "source": [
        "## Se realiza un analisis por separado para cada etapa del proceso, utilizando una ecuacion con la cual se obtienen el tiempo y la cantidad de unidades fallidas en funcion del porcentaje de falla.\n",
        "\n",
        "cantidad = 10\n",
        "\n",
        "## TREFILADO\n",
        "TrTiempo=[]\n",
        "TrFalla=[]\n",
        "\n",
        "for x in range(cantidad) :\n",
        "  x = x + 1\n",
        "  tiempo = x*1.8\n",
        "  falla = x*0.01\n",
        "  TrTiempo.append(tiempo)\n",
        "  TrFalla.append(falla)\n",
        "\n",
        "print(\"TREFILADO\")\n",
        "print(\"Tiempo en Segundos por cada iteracion: %s\" % (TrTiempo,))\n",
        "print(\"Procentaje de fallas por iteracion: %s\" % (TrFalla,))"
      ],
      "execution_count": 59,
      "outputs": [
        {
          "output_type": "stream",
          "text": [
            "TREFILADO\n",
            "Tiempo en Segundos por cada iteracion: [1.8, 3.6, 5.4, 7.2, 9.0, 10.8, 12.6, 14.4, 16.2, 18.0]\n",
            "Procentaje de fallas por iteracion: [0.01, 0.02, 0.03, 0.04, 0.05, 0.06, 0.07, 0.08, 0.09, 0.1]\n"
          ],
          "name": "stdout"
        }
      ]
    },
    {
      "cell_type": "code",
      "metadata": {
        "id": "gBTN62OusBY1",
        "colab_type": "code",
        "colab": {
          "base_uri": "https://localhost:8080/",
          "height": 67
        },
        "outputId": "02375eed-ba09-4a00-882c-6242ebbd3d4c"
      },
      "source": [
        "## ENDEREZADO\n",
        "ETiempo=[]\n",
        "EFalla=[]\n",
        "\n",
        "for x in range(cantidad) :\n",
        "  x = x + 1\n",
        "  tiempo = x*1.1\n",
        "  falla = x*0.025\n",
        "  ETiempo.append(tiempo)\n",
        "  EFalla.append(falla)\n",
        "\n",
        "print(\"ENDEREZADO\")\n",
        "print(\"Tiempo en Segundos por cada iteracion: %s\" % (ETiempo,))\n",
        "print(\"Procentaje de fallas por iteracion: %s\" % (EFalla,))"
      ],
      "execution_count": 60,
      "outputs": [
        {
          "output_type": "stream",
          "text": [
            "ENDEREZADO\n",
            "Tiempo en Segundos por cada iteracion: [1.1, 2.2, 3.3000000000000003, 4.4, 5.5, 6.6000000000000005, 7.700000000000001, 8.8, 9.9, 11.0]\n",
            "Procentaje de fallas por iteracion: [0.025, 0.05, 0.07500000000000001, 0.1, 0.125, 0.15000000000000002, 0.17500000000000002, 0.2, 0.225, 0.25]\n"
          ],
          "name": "stdout"
        }
      ]
    },
    {
      "cell_type": "code",
      "metadata": {
        "id": "t9WYzAyWGAOg",
        "colab_type": "code",
        "colab": {
          "base_uri": "https://localhost:8080/",
          "height": 87
        },
        "outputId": "9088bc93-a768-4b15-df47-887d7b737d1c"
      },
      "source": [
        "## Corte\n",
        "CTiempo=[]\n",
        "CFalla=[]\n",
        "\n",
        "for x in range(cantidad) :\n",
        "  x = x + 1\n",
        "  tiempo = x*0.9\n",
        "  falla = x*0.07\n",
        "  CTiempo.append(tiempo)\n",
        "  CFalla.append(falla)\n",
        "\n",
        "print(\"CORTE\")\n",
        "print(\"Tiempo en Segundos por cada iteracion: %s\" % (CTiempo,))\n",
        "print(\"Procentaje de fallas por iteracion: %s\" % (CFalla,))"
      ],
      "execution_count": 61,
      "outputs": [
        {
          "output_type": "stream",
          "text": [
            "CORTE\n",
            "Tiempo en Segundos por cada iteracion: [0.9, 1.8, 2.7, 3.6, 4.5, 5.4, 6.3, 7.2, 8.1, 9.0]\n",
            "Procentaje de fallas por iteracion: [0.07, 0.14, 0.21000000000000002, 0.28, 0.35000000000000003, 0.42000000000000004, 0.49000000000000005, 0.56, 0.6300000000000001, 0.7000000000000001]\n"
          ],
          "name": "stdout"
        }
      ]
    },
    {
      "cell_type": "code",
      "metadata": {
        "id": "F7uyiJqLGZxg",
        "colab_type": "code",
        "colab": {
          "base_uri": "https://localhost:8080/",
          "height": 67
        },
        "outputId": "62abe1b8-6e98-4517-8ed5-10ad7c47ae1d"
      },
      "source": [
        "## ENSAMBLE\n",
        "EnTiempo=[]\n",
        "EnFalla=[]\n",
        "\n",
        "for x in range(cantidad) :\n",
        "  x = x + 1\n",
        "  tiempo = x*2.1\n",
        "  falla = x*0.031\n",
        "  EnTiempo.append(tiempo)\n",
        "  EnFalla.append(falla)\n",
        "\n",
        "print(\"ENSAMBLE\")\n",
        "print(\"Tiempo en Segundos por cada iteracion: %s\" % (EnTiempo,))\n",
        "print(\"Procentaje de fallas por iteracion: %s\" % (EnFalla,))"
      ],
      "execution_count": 62,
      "outputs": [
        {
          "output_type": "stream",
          "text": [
            "ENSAMBLE\n",
            "Tiempo en Segundos por cada iteracion: [2.1, 4.2, 6.300000000000001, 8.4, 10.5, 12.600000000000001, 14.700000000000001, 16.8, 18.900000000000002, 21.0]\n",
            "Procentaje de fallas por iteracion: [0.031, 0.062, 0.093, 0.124, 0.155, 0.186, 0.217, 0.248, 0.279, 0.31]\n"
          ],
          "name": "stdout"
        }
      ]
    },
    {
      "cell_type": "code",
      "metadata": {
        "id": "3b6_rmv7Gq90",
        "colab_type": "code",
        "colab": {
          "base_uri": "https://localhost:8080/",
          "height": 50
        },
        "outputId": "cb3a7655-94e9-40e7-b059-6706ded11862"
      },
      "source": [
        "## PRUEBA DE CALIDAD\n",
        "PcnTiempo=[]\n",
        "\n",
        "for x in range(cantidad) :\n",
        "  x = x + 1\n",
        "  tiempo = x*1.3\n",
        "  PcnTiempo.append(tiempo)\n",
        "\n",
        "print(\"PRUEBA DE CALIDAD\")\n",
        "print(\"Tiempo en Segundos por cada iteracion: %s\" % (PcTiempo,))"
      ],
      "execution_count": 63,
      "outputs": [
        {
          "output_type": "stream",
          "text": [
            "PRUEBA DE CALIDAD\n",
            "Tiempo en Segundos por cada iteracion: [1.3, 2.6, 3.9000000000000004, 5.2, 6.5, 7.800000000000001, 9.1, 10.4, 11.700000000000001, 13.0]\n"
          ],
          "name": "stdout"
        }
      ]
    },
    {
      "cell_type": "code",
      "metadata": {
        "id": "XqBWwv9IHPfU",
        "colab_type": "code",
        "colab": {
          "base_uri": "https://localhost:8080/",
          "height": 50
        },
        "outputId": "4cc9fa48-3bf4-4b5f-f2ef-3a6b0d21a99c"
      },
      "source": [
        "## PINTURA\n",
        "PTiempo=[]\n",
        "\n",
        "for x in range(cantidad) :\n",
        "  x = x + 1\n",
        "  tiempo = x*2\n",
        "  PTiempo.append(tiempo)\n",
        "\n",
        "print(\"PINTURA\")\n",
        "print(\"Tiempo en Segundos por cada iteracion: %s\" % (PTiempo,))"
      ],
      "execution_count": 64,
      "outputs": [
        {
          "output_type": "stream",
          "text": [
            "PINTURA\n",
            "Tiempo en Segundos por cada iteracion: [2, 4, 6, 8, 10, 12, 14, 16, 18, 20]\n"
          ],
          "name": "stdout"
        }
      ]
    },
    {
      "cell_type": "code",
      "metadata": {
        "id": "_Mcn5VRLHgC8",
        "colab_type": "code",
        "colab": {
          "base_uri": "https://localhost:8080/",
          "height": 50
        },
        "outputId": "b23c6b3c-33e4-495a-ea07-d117ae8fd242"
      },
      "source": [
        "## EMBALAJE\n",
        "EmTiempo=[]\n",
        "\n",
        "for x in range(cantidad) :\n",
        "  x = x + 1\n",
        "  tiempo = x*0.9\n",
        "  EmTiempo.append(tiempo)\n",
        "\n",
        "print(\"EMBALAJE\")\n",
        "print(\"Tiempo en Segundos por cada iteracion: %s\" % (EmTiempo,))"
      ],
      "execution_count": 65,
      "outputs": [
        {
          "output_type": "stream",
          "text": [
            "EMBALAJE\n",
            "Tiempo en Segundos por cada iteracion: [0.9, 1.8, 2.7, 3.6, 4.5, 5.4, 6.3, 7.2, 8.1, 9.0]\n"
          ],
          "name": "stdout"
        }
      ]
    },
    {
      "cell_type": "markdown",
      "metadata": {
        "id": "pxF3aYKjIgMR",
        "colab_type": "text"
      },
      "source": [
        "##Machine learning\n",
        "Una vez se tienen todos los datos y resultados que seran el imput del codigo, se procede a establecer el la red neuronal con la cual se realizara el analisis, esto permitira que el software realice predicciones con lo aprende de cada iteracion. \n",
        "\n",
        "Lo siguiente es establecer la relacion entre los diferentes resultados que se obtienen, como en el sigueinte ejemplo:\n",
        "\n",
        "Se toma la cantidad de tiempo que se demora en realizar el trefilado por unidad, de forma que al realizar el trefilado de una sola unidad se demora 1.8 seg, al realizar el trefilado de 5 unidades se va a demorar 9.0 seg, y al hacerlo con 10 unidades se demorara 18.0 segundos. Con estos resultados y la relacion que existe entre ellos se inicia el proceso de aprendizaje, el cual consiste en ejecutar una determinada cantidad de simulaciones para que el prgrama aprenda. en este ejemplo se ejecutaron 100 simulaciones para que el programa aprenda y pueda realizar predicciones de tiempo en funcion de la cantidad."
      ]
    },
    {
      "cell_type": "code",
      "metadata": {
        "id": "YpH9lGpKHsEi",
        "colab_type": "code",
        "colab": {
          "base_uri": "https://localhost:8080/",
          "height": 1000
        },
        "outputId": "84714b8c-d3a5-4a05-f6f9-ab8174f535f6"
      },
      "source": [
        "## Se establece la cantidad de neuronas que se utilizaran en esta simulacion\n",
        "modelo = tf.keras.Sequential([keras.layers.Dense(units=1, input_shape=[1])])\n",
        "## Se establece el optimizer y la perdida\n",
        "modelo.compile(optimizer='sgd', loss='mean_squared_error')\n",
        "## Se colocan los datos\n",
        "CantUnidad = np.array([1.0, 2.0, 3.0, 4.0, 5.0, 6.0, 7.0, 8.0, 9.0, 10.0], dtype=float)\n",
        "TrefiladoTiempo = np.array([1.8, 3.6, 5.4, 7.2, 9.0, 10.8, 12.6, 14.4, 16.2, 18.0], dtype=float)\n",
        "## Se inicia la simulacion especificando que se realizaran 100 iteraciones\n",
        "modelo.fit(CantUnidad, TrefiladoTiempo, epochs=100)"
      ],
      "execution_count": 75,
      "outputs": [
        {
          "output_type": "stream",
          "text": [
            "Train on 10 samples\n",
            "Epoch 1/100\n",
            "10/10 [==============================] - 0s 8ms/sample - loss: 158.9074\n",
            "Epoch 2/100\n",
            "10/10 [==============================] - 0s 176us/sample - loss: 7.3075\n",
            "Epoch 3/100\n",
            "10/10 [==============================] - 0s 113us/sample - loss: 0.3517\n",
            "Epoch 4/100\n",
            "10/10 [==============================] - 0s 102us/sample - loss: 0.0324\n",
            "Epoch 5/100\n",
            "10/10 [==============================] - 0s 227us/sample - loss: 0.0176\n",
            "Epoch 6/100\n",
            "10/10 [==============================] - 0s 124us/sample - loss: 0.0168\n",
            "Epoch 7/100\n",
            "10/10 [==============================] - 0s 115us/sample - loss: 0.0167\n",
            "Epoch 8/100\n",
            "10/10 [==============================] - 0s 118us/sample - loss: 0.0165\n",
            "Epoch 9/100\n",
            "10/10 [==============================] - 0s 163us/sample - loss: 0.0164\n",
            "Epoch 10/100\n",
            "10/10 [==============================] - 0s 138us/sample - loss: 0.0162\n",
            "Epoch 11/100\n",
            "10/10 [==============================] - 0s 169us/sample - loss: 0.0161\n",
            "Epoch 12/100\n",
            "10/10 [==============================] - 0s 160us/sample - loss: 0.0160\n",
            "Epoch 13/100\n",
            "10/10 [==============================] - 0s 241us/sample - loss: 0.0158\n",
            "Epoch 14/100\n",
            "10/10 [==============================] - 0s 160us/sample - loss: 0.0157\n",
            "Epoch 15/100\n",
            "10/10 [==============================] - 0s 165us/sample - loss: 0.0156\n",
            "Epoch 16/100\n",
            "10/10 [==============================] - 0s 233us/sample - loss: 0.0154\n",
            "Epoch 17/100\n",
            "10/10 [==============================] - 0s 177us/sample - loss: 0.0153\n",
            "Epoch 18/100\n",
            "10/10 [==============================] - 0s 122us/sample - loss: 0.0152\n",
            "Epoch 19/100\n",
            "10/10 [==============================] - 0s 169us/sample - loss: 0.0151\n",
            "Epoch 20/100\n",
            "10/10 [==============================] - 0s 157us/sample - loss: 0.0149\n",
            "Epoch 21/100\n",
            "10/10 [==============================] - 0s 179us/sample - loss: 0.0148\n",
            "Epoch 22/100\n",
            "10/10 [==============================] - 0s 119us/sample - loss: 0.0147\n",
            "Epoch 23/100\n",
            "10/10 [==============================] - 0s 118us/sample - loss: 0.0146\n",
            "Epoch 24/100\n",
            "10/10 [==============================] - 0s 166us/sample - loss: 0.0144\n",
            "Epoch 25/100\n",
            "10/10 [==============================] - 0s 115us/sample - loss: 0.0143\n",
            "Epoch 26/100\n",
            "10/10 [==============================] - 0s 236us/sample - loss: 0.0142\n",
            "Epoch 27/100\n",
            "10/10 [==============================] - 0s 168us/sample - loss: 0.0141\n",
            "Epoch 28/100\n",
            "10/10 [==============================] - 0s 107us/sample - loss: 0.0140\n",
            "Epoch 29/100\n",
            "10/10 [==============================] - 0s 151us/sample - loss: 0.0138\n",
            "Epoch 30/100\n",
            "10/10 [==============================] - 0s 157us/sample - loss: 0.0137\n",
            "Epoch 31/100\n",
            "10/10 [==============================] - 0s 150us/sample - loss: 0.0136\n",
            "Epoch 32/100\n",
            "10/10 [==============================] - 0s 150us/sample - loss: 0.0135\n",
            "Epoch 33/100\n",
            "10/10 [==============================] - 0s 166us/sample - loss: 0.0134\n",
            "Epoch 34/100\n",
            "10/10 [==============================] - 0s 123us/sample - loss: 0.0133\n",
            "Epoch 35/100\n",
            "10/10 [==============================] - 0s 139us/sample - loss: 0.0132\n",
            "Epoch 36/100\n",
            "10/10 [==============================] - 0s 146us/sample - loss: 0.0130\n",
            "Epoch 37/100\n",
            "10/10 [==============================] - 0s 160us/sample - loss: 0.0129\n",
            "Epoch 38/100\n",
            "10/10 [==============================] - 0s 149us/sample - loss: 0.0128\n",
            "Epoch 39/100\n",
            "10/10 [==============================] - 0s 151us/sample - loss: 0.0127\n",
            "Epoch 40/100\n",
            "10/10 [==============================] - 0s 172us/sample - loss: 0.0126\n",
            "Epoch 41/100\n",
            "10/10 [==============================] - 0s 194us/sample - loss: 0.0125\n",
            "Epoch 42/100\n",
            "10/10 [==============================] - 0s 164us/sample - loss: 0.0124\n",
            "Epoch 43/100\n",
            "10/10 [==============================] - 0s 222us/sample - loss: 0.0123\n",
            "Epoch 44/100\n",
            "10/10 [==============================] - 0s 196us/sample - loss: 0.0122\n",
            "Epoch 45/100\n",
            "10/10 [==============================] - 0s 156us/sample - loss: 0.0121\n",
            "Epoch 46/100\n",
            "10/10 [==============================] - 0s 126us/sample - loss: 0.0120\n",
            "Epoch 47/100\n",
            "10/10 [==============================] - 0s 214us/sample - loss: 0.0119\n",
            "Epoch 48/100\n",
            "10/10 [==============================] - 0s 156us/sample - loss: 0.0118\n",
            "Epoch 49/100\n",
            "10/10 [==============================] - 0s 148us/sample - loss: 0.0117\n",
            "Epoch 50/100\n",
            "10/10 [==============================] - 0s 124us/sample - loss: 0.0116\n",
            "Epoch 51/100\n",
            "10/10 [==============================] - 0s 165us/sample - loss: 0.0115\n",
            "Epoch 52/100\n",
            "10/10 [==============================] - 0s 156us/sample - loss: 0.0114\n",
            "Epoch 53/100\n",
            "10/10 [==============================] - 0s 143us/sample - loss: 0.0113\n",
            "Epoch 54/100\n",
            "10/10 [==============================] - 0s 136us/sample - loss: 0.0112\n",
            "Epoch 55/100\n",
            "10/10 [==============================] - 0s 123us/sample - loss: 0.0111\n",
            "Epoch 56/100\n",
            "10/10 [==============================] - 0s 156us/sample - loss: 0.0110\n",
            "Epoch 57/100\n",
            "10/10 [==============================] - 0s 134us/sample - loss: 0.0109\n",
            "Epoch 58/100\n",
            "10/10 [==============================] - 0s 149us/sample - loss: 0.0108\n",
            "Epoch 59/100\n",
            "10/10 [==============================] - 0s 138us/sample - loss: 0.0108\n",
            "Epoch 60/100\n",
            "10/10 [==============================] - 0s 126us/sample - loss: 0.0107\n",
            "Epoch 61/100\n",
            "10/10 [==============================] - 0s 157us/sample - loss: 0.0106\n",
            "Epoch 62/100\n",
            "10/10 [==============================] - 0s 128us/sample - loss: 0.0105\n",
            "Epoch 63/100\n",
            "10/10 [==============================] - 0s 141us/sample - loss: 0.0104\n",
            "Epoch 64/100\n",
            "10/10 [==============================] - 0s 145us/sample - loss: 0.0103\n",
            "Epoch 65/100\n",
            "10/10 [==============================] - 0s 187us/sample - loss: 0.0102\n",
            "Epoch 66/100\n",
            "10/10 [==============================] - 0s 179us/sample - loss: 0.0101\n",
            "Epoch 67/100\n",
            "10/10 [==============================] - 0s 145us/sample - loss: 0.0101\n",
            "Epoch 68/100\n",
            "10/10 [==============================] - 0s 199us/sample - loss: 0.0100\n",
            "Epoch 69/100\n",
            "10/10 [==============================] - 0s 194us/sample - loss: 0.0099\n",
            "Epoch 70/100\n",
            "10/10 [==============================] - 0s 144us/sample - loss: 0.0098\n",
            "Epoch 71/100\n",
            "10/10 [==============================] - 0s 133us/sample - loss: 0.0097\n",
            "Epoch 72/100\n",
            "10/10 [==============================] - 0s 137us/sample - loss: 0.0096\n",
            "Epoch 73/100\n",
            "10/10 [==============================] - 0s 225us/sample - loss: 0.0096\n",
            "Epoch 74/100\n",
            "10/10 [==============================] - 0s 219us/sample - loss: 0.0095\n",
            "Epoch 75/100\n",
            "10/10 [==============================] - 0s 211us/sample - loss: 0.0094\n",
            "Epoch 76/100\n",
            "10/10 [==============================] - 0s 143us/sample - loss: 0.0093\n",
            "Epoch 77/100\n",
            "10/10 [==============================] - 0s 188us/sample - loss: 0.0092\n",
            "Epoch 78/100\n",
            "10/10 [==============================] - 0s 210us/sample - loss: 0.0092\n",
            "Epoch 79/100\n",
            "10/10 [==============================] - 0s 159us/sample - loss: 0.0091\n",
            "Epoch 80/100\n",
            "10/10 [==============================] - 0s 138us/sample - loss: 0.0090\n",
            "Epoch 81/100\n",
            "10/10 [==============================] - 0s 139us/sample - loss: 0.0089\n",
            "Epoch 82/100\n",
            "10/10 [==============================] - 0s 139us/sample - loss: 0.0089\n",
            "Epoch 83/100\n",
            "10/10 [==============================] - 0s 144us/sample - loss: 0.0088\n",
            "Epoch 84/100\n",
            "10/10 [==============================] - 0s 142us/sample - loss: 0.0087\n",
            "Epoch 85/100\n",
            "10/10 [==============================] - 0s 141us/sample - loss: 0.0086\n",
            "Epoch 86/100\n",
            "10/10 [==============================] - 0s 127us/sample - loss: 0.0086\n",
            "Epoch 87/100\n",
            "10/10 [==============================] - 0s 150us/sample - loss: 0.0085\n",
            "Epoch 88/100\n",
            "10/10 [==============================] - 0s 151us/sample - loss: 0.0084\n",
            "Epoch 89/100\n",
            "10/10 [==============================] - 0s 145us/sample - loss: 0.0084\n",
            "Epoch 90/100\n",
            "10/10 [==============================] - 0s 338us/sample - loss: 0.0083\n",
            "Epoch 91/100\n",
            "10/10 [==============================] - 0s 218us/sample - loss: 0.0082\n",
            "Epoch 92/100\n",
            "10/10 [==============================] - 0s 200us/sample - loss: 0.0081\n",
            "Epoch 93/100\n",
            "10/10 [==============================] - 0s 152us/sample - loss: 0.0081\n",
            "Epoch 94/100\n",
            "10/10 [==============================] - 0s 135us/sample - loss: 0.0080\n",
            "Epoch 95/100\n",
            "10/10 [==============================] - 0s 138us/sample - loss: 0.0079\n",
            "Epoch 96/100\n",
            "10/10 [==============================] - 0s 183us/sample - loss: 0.0079\n",
            "Epoch 97/100\n",
            "10/10 [==============================] - 0s 127us/sample - loss: 0.0078\n",
            "Epoch 98/100\n",
            "10/10 [==============================] - 0s 195us/sample - loss: 0.0077\n",
            "Epoch 99/100\n",
            "10/10 [==============================] - 0s 123us/sample - loss: 0.0077\n",
            "Epoch 100/100\n",
            "10/10 [==============================] - 0s 180us/sample - loss: 0.0076\n"
          ],
          "name": "stdout"
        },
        {
          "output_type": "execute_result",
          "data": {
            "text/plain": [
              "<tensorflow.python.keras.callbacks.History at 0x7f8c3b577be0>"
            ]
          },
          "metadata": {
            "tags": []
          },
          "execution_count": 75
        }
      ]
    },
    {
      "cell_type": "markdown",
      "metadata": {
        "id": "LgIBzx5UL4YH",
        "colab_type": "text"
      },
      "source": [
        "Una vez se terminada la etapa de aprendizaje se pueden realizar varias pruebas evidenciando que la precision de la simulacion es acertada, y el margen de error es minimo."
      ]
    },
    {
      "cell_type": "code",
      "metadata": {
        "id": "W_UuXP3uJ6tD",
        "colab_type": "code",
        "colab": {
          "base_uri": "https://localhost:8080/",
          "height": 151
        },
        "outputId": "b14da4ef-8c4a-4aad-f864-a42afcf76e2e"
      },
      "source": [
        "print(\"Tiempo estimado para realizar el trefilado con 1 unidades\")\n",
        "print(modelo.predict([1.0]))\n",
        "print(\"Tiempo estimado con 5 unidades\")\n",
        "print(modelo.predict([5.0]))\n",
        "print(\"Tiempo estimado con 10 unidades\")\n",
        "print(modelo.predict([10.0]))\n",
        "print(\"Tiempo estimado con 500 unidades\")\n",
        "print(modelo.predict([500.0]))"
      ],
      "execution_count": 82,
      "outputs": [
        {
          "output_type": "stream",
          "text": [
            "Tiempo estimado para realizar el trefilado con 1 unidades\n",
            "[[0.06797606]]\n",
            "Tiempo estimado con 5 unidades\n",
            "[[0.06907784]]\n",
            "Tiempo estimado con 10 unidades\n",
            "[[0.07045508]]\n",
            "Tiempo estimado con 500 unidades\n",
            "[[0.20542406]]\n"
          ],
          "name": "stdout"
        }
      ]
    },
    {
      "cell_type": "markdown",
      "metadata": {
        "id": "ZEHnWD2sN-wp",
        "colab_type": "text"
      },
      "source": [
        "Una vez terminadas las pruebas base, se puede ejecutar la misma simulacion con los demas procesos, por practicidad del ejercicio solo se realizara una simulacion mas para evidenciar la precision de la misma."
      ]
    },
    {
      "cell_type": "code",
      "metadata": {
        "id": "Le1_HKdOL3B9",
        "colab_type": "code",
        "colab": {
          "base_uri": "https://localhost:8080/",
          "height": 1000
        },
        "outputId": "ad85514a-5af3-497d-a485-9f9ba64893f0"
      },
      "source": [
        "## Se establece la cantidad de neuronas que se utilizaran en esta simulacion\n",
        "modeloFalla = tf.keras.Sequential([keras.layers.Dense(units=1, input_shape=[1])])\n",
        "## Se establece el optimizer y la perdida\n",
        "modeloFalla.compile(optimizer='sgd', loss='mean_squared_error')\n",
        "## Se colocan los datos\n",
        "CantUnidad = np.array([1.0, 2.0, 3.0, 4.0, 5.0, 6.0, 7.0, 8.0, 9.0, 10.0], dtype=float)\n",
        "TrefiladoFalla = np.array([0.01, 0.02, 0.03, 0.04, 0.05, 0.06, 0.07, 0.08, 0.09, 0.1], dtype=float)\n",
        "## Se inicia la simulacion especificando que se realizaran 100 iteraciones\n",
        "modeloFalla.fit(CantUnidad, TrefiladoFalla, epochs=100)"
      ],
      "execution_count": 83,
      "outputs": [
        {
          "output_type": "stream",
          "text": [
            "Train on 10 samples\n",
            "Epoch 1/100\n",
            "10/10 [==============================] - 0s 11ms/sample - loss: 73.1279\n",
            "Epoch 2/100\n",
            "10/10 [==============================] - 0s 169us/sample - loss: 3.3628\n",
            "Epoch 3/100\n",
            "10/10 [==============================] - 0s 171us/sample - loss: 0.1619\n",
            "Epoch 4/100\n",
            "10/10 [==============================] - 0s 142us/sample - loss: 0.0149\n",
            "Epoch 5/100\n",
            "10/10 [==============================] - 0s 117us/sample - loss: 0.0081\n",
            "Epoch 6/100\n",
            "10/10 [==============================] - 0s 130us/sample - loss: 0.0077\n",
            "Epoch 7/100\n",
            "10/10 [==============================] - 0s 147us/sample - loss: 0.0077\n",
            "Epoch 8/100\n",
            "10/10 [==============================] - 0s 133us/sample - loss: 0.0076\n",
            "Epoch 9/100\n",
            "10/10 [==============================] - 0s 181us/sample - loss: 0.0075\n",
            "Epoch 10/100\n",
            "10/10 [==============================] - 0s 142us/sample - loss: 0.0075\n",
            "Epoch 11/100\n",
            "10/10 [==============================] - 0s 186us/sample - loss: 0.0074\n",
            "Epoch 12/100\n",
            "10/10 [==============================] - 0s 152us/sample - loss: 0.0073\n",
            "Epoch 13/100\n",
            "10/10 [==============================] - 0s 176us/sample - loss: 0.0073\n",
            "Epoch 14/100\n",
            "10/10 [==============================] - 0s 176us/sample - loss: 0.0072\n",
            "Epoch 15/100\n",
            "10/10 [==============================] - 0s 150us/sample - loss: 0.0072\n",
            "Epoch 16/100\n",
            "10/10 [==============================] - 0s 148us/sample - loss: 0.0071\n",
            "Epoch 17/100\n",
            "10/10 [==============================] - 0s 144us/sample - loss: 0.0070\n",
            "Epoch 18/100\n",
            "10/10 [==============================] - 0s 130us/sample - loss: 0.0070\n",
            "Epoch 19/100\n",
            "10/10 [==============================] - 0s 143us/sample - loss: 0.0069\n",
            "Epoch 20/100\n",
            "10/10 [==============================] - 0s 227us/sample - loss: 0.0069\n",
            "Epoch 21/100\n",
            "10/10 [==============================] - 0s 123us/sample - loss: 0.0068\n",
            "Epoch 22/100\n",
            "10/10 [==============================] - 0s 124us/sample - loss: 0.0068\n",
            "Epoch 23/100\n",
            "10/10 [==============================] - 0s 115us/sample - loss: 0.0067\n",
            "Epoch 24/100\n",
            "10/10 [==============================] - 0s 141us/sample - loss: 0.0066\n",
            "Epoch 25/100\n",
            "10/10 [==============================] - 0s 154us/sample - loss: 0.0066\n",
            "Epoch 26/100\n",
            "10/10 [==============================] - 0s 166us/sample - loss: 0.0065\n",
            "Epoch 27/100\n",
            "10/10 [==============================] - 0s 156us/sample - loss: 0.0065\n",
            "Epoch 28/100\n",
            "10/10 [==============================] - 0s 153us/sample - loss: 0.0064\n",
            "Epoch 29/100\n",
            "10/10 [==============================] - 0s 140us/sample - loss: 0.0064\n",
            "Epoch 30/100\n",
            "10/10 [==============================] - 0s 126us/sample - loss: 0.0063\n",
            "Epoch 31/100\n",
            "10/10 [==============================] - 0s 838us/sample - loss: 0.0063\n",
            "Epoch 32/100\n",
            "10/10 [==============================] - 0s 290us/sample - loss: 0.0062\n",
            "Epoch 33/100\n",
            "10/10 [==============================] - 0s 130us/sample - loss: 0.0062\n",
            "Epoch 34/100\n",
            "10/10 [==============================] - 0s 127us/sample - loss: 0.0061\n",
            "Epoch 35/100\n",
            "10/10 [==============================] - 0s 138us/sample - loss: 0.0061\n",
            "Epoch 36/100\n",
            "10/10 [==============================] - 0s 138us/sample - loss: 0.0060\n",
            "Epoch 37/100\n",
            "10/10 [==============================] - 0s 137us/sample - loss: 0.0060\n",
            "Epoch 38/100\n",
            "10/10 [==============================] - 0s 134us/sample - loss: 0.0059\n",
            "Epoch 39/100\n",
            "10/10 [==============================] - 0s 134us/sample - loss: 0.0059\n",
            "Epoch 40/100\n",
            "10/10 [==============================] - 0s 143us/sample - loss: 0.0058\n",
            "Epoch 41/100\n",
            "10/10 [==============================] - 0s 129us/sample - loss: 0.0058\n",
            "Epoch 42/100\n",
            "10/10 [==============================] - 0s 127us/sample - loss: 0.0057\n",
            "Epoch 43/100\n",
            "10/10 [==============================] - 0s 131us/sample - loss: 0.0057\n",
            "Epoch 44/100\n",
            "10/10 [==============================] - 0s 139us/sample - loss: 0.0056\n",
            "Epoch 45/100\n",
            "10/10 [==============================] - 0s 126us/sample - loss: 0.0056\n",
            "Epoch 46/100\n",
            "10/10 [==============================] - 0s 130us/sample - loss: 0.0055\n",
            "Epoch 47/100\n",
            "10/10 [==============================] - 0s 135us/sample - loss: 0.0055\n",
            "Epoch 48/100\n",
            "10/10 [==============================] - 0s 134us/sample - loss: 0.0054\n",
            "Epoch 49/100\n",
            "10/10 [==============================] - 0s 132us/sample - loss: 0.0054\n",
            "Epoch 50/100\n",
            "10/10 [==============================] - 0s 134us/sample - loss: 0.0053\n",
            "Epoch 51/100\n",
            "10/10 [==============================] - 0s 137us/sample - loss: 0.0053\n",
            "Epoch 52/100\n",
            "10/10 [==============================] - 0s 118us/sample - loss: 0.0052\n",
            "Epoch 53/100\n",
            "10/10 [==============================] - 0s 116us/sample - loss: 0.0052\n",
            "Epoch 54/100\n",
            "10/10 [==============================] - 0s 132us/sample - loss: 0.0052\n",
            "Epoch 55/100\n",
            "10/10 [==============================] - 0s 149us/sample - loss: 0.0051\n",
            "Epoch 56/100\n",
            "10/10 [==============================] - 0s 129us/sample - loss: 0.0051\n",
            "Epoch 57/100\n",
            "10/10 [==============================] - 0s 133us/sample - loss: 0.0050\n",
            "Epoch 58/100\n",
            "10/10 [==============================] - 0s 136us/sample - loss: 0.0050\n",
            "Epoch 59/100\n",
            "10/10 [==============================] - 0s 129us/sample - loss: 0.0049\n",
            "Epoch 60/100\n",
            "10/10 [==============================] - 0s 113us/sample - loss: 0.0049\n",
            "Epoch 61/100\n",
            "10/10 [==============================] - 0s 134us/sample - loss: 0.0049\n",
            "Epoch 62/100\n",
            "10/10 [==============================] - 0s 142us/sample - loss: 0.0048\n",
            "Epoch 63/100\n",
            "10/10 [==============================] - 0s 116us/sample - loss: 0.0048\n",
            "Epoch 64/100\n",
            "10/10 [==============================] - 0s 134us/sample - loss: 0.0047\n",
            "Epoch 65/100\n",
            "10/10 [==============================] - 0s 139us/sample - loss: 0.0047\n",
            "Epoch 66/100\n",
            "10/10 [==============================] - 0s 144us/sample - loss: 0.0047\n",
            "Epoch 67/100\n",
            "10/10 [==============================] - 0s 130us/sample - loss: 0.0046\n",
            "Epoch 68/100\n",
            "10/10 [==============================] - 0s 150us/sample - loss: 0.0046\n",
            "Epoch 69/100\n",
            "10/10 [==============================] - 0s 133us/sample - loss: 0.0045\n",
            "Epoch 70/100\n",
            "10/10 [==============================] - 0s 164us/sample - loss: 0.0045\n",
            "Epoch 71/100\n",
            "10/10 [==============================] - 0s 178us/sample - loss: 0.0045\n",
            "Epoch 72/100\n",
            "10/10 [==============================] - 0s 119us/sample - loss: 0.0044\n",
            "Epoch 73/100\n",
            "10/10 [==============================] - 0s 116us/sample - loss: 0.0044\n",
            "Epoch 74/100\n",
            "10/10 [==============================] - 0s 127us/sample - loss: 0.0044\n",
            "Epoch 75/100\n",
            "10/10 [==============================] - 0s 141us/sample - loss: 0.0043\n",
            "Epoch 76/100\n",
            "10/10 [==============================] - 0s 128us/sample - loss: 0.0043\n",
            "Epoch 77/100\n",
            "10/10 [==============================] - 0s 166us/sample - loss: 0.0043\n",
            "Epoch 78/100\n",
            "10/10 [==============================] - 0s 173us/sample - loss: 0.0042\n",
            "Epoch 79/100\n",
            "10/10 [==============================] - 0s 176us/sample - loss: 0.0042\n",
            "Epoch 80/100\n",
            "10/10 [==============================] - 0s 181us/sample - loss: 0.0041\n",
            "Epoch 81/100\n",
            "10/10 [==============================] - 0s 185us/sample - loss: 0.0041\n",
            "Epoch 82/100\n",
            "10/10 [==============================] - 0s 120us/sample - loss: 0.0041\n",
            "Epoch 83/100\n",
            "10/10 [==============================] - 0s 119us/sample - loss: 0.0040\n",
            "Epoch 84/100\n",
            "10/10 [==============================] - 0s 120us/sample - loss: 0.0040\n",
            "Epoch 85/100\n",
            "10/10 [==============================] - 0s 130us/sample - loss: 0.0040\n",
            "Epoch 86/100\n",
            "10/10 [==============================] - 0s 118us/sample - loss: 0.0039\n",
            "Epoch 87/100\n",
            "10/10 [==============================] - 0s 126us/sample - loss: 0.0039\n",
            "Epoch 88/100\n",
            "10/10 [==============================] - 0s 133us/sample - loss: 0.0039\n",
            "Epoch 89/100\n",
            "10/10 [==============================] - 0s 139us/sample - loss: 0.0038\n",
            "Epoch 90/100\n",
            "10/10 [==============================] - 0s 172us/sample - loss: 0.0038\n",
            "Epoch 91/100\n",
            "10/10 [==============================] - 0s 197us/sample - loss: 0.0038\n",
            "Epoch 92/100\n",
            "10/10 [==============================] - 0s 607us/sample - loss: 0.0037\n",
            "Epoch 93/100\n",
            "10/10 [==============================] - 0s 126us/sample - loss: 0.0037\n",
            "Epoch 94/100\n",
            "10/10 [==============================] - 0s 136us/sample - loss: 0.0037\n",
            "Epoch 95/100\n",
            "10/10 [==============================] - 0s 182us/sample - loss: 0.0037\n",
            "Epoch 96/100\n",
            "10/10 [==============================] - 0s 149us/sample - loss: 0.0036\n",
            "Epoch 97/100\n",
            "10/10 [==============================] - 0s 137us/sample - loss: 0.0036\n",
            "Epoch 98/100\n",
            "10/10 [==============================] - 0s 140us/sample - loss: 0.0036\n",
            "Epoch 99/100\n",
            "10/10 [==============================] - 0s 147us/sample - loss: 0.0035\n",
            "Epoch 100/100\n",
            "10/10 [==============================] - 0s 188us/sample - loss: 0.0035\n"
          ],
          "name": "stdout"
        },
        {
          "output_type": "execute_result",
          "data": {
            "text/plain": [
              "<tensorflow.python.keras.callbacks.History at 0x7f8c4265f860>"
            ]
          },
          "metadata": {
            "tags": []
          },
          "execution_count": 83
        }
      ]
    },
    {
      "cell_type": "code",
      "metadata": {
        "id": "NocsHUvdOYHW",
        "colab_type": "code",
        "colab": {
          "base_uri": "https://localhost:8080/",
          "height": 151
        },
        "outputId": "a4f883a9-2e3e-411a-a57e-78196f4a5a7e"
      },
      "source": [
        "print(\"Tiempo estimado para realizar el trefilado con 1 unidades\")\n",
        "print(modeloFalla.predict([1.0]))\n",
        "print(\"Tiempo estimado con 5 unidades\")\n",
        "print(modeloFalla.predict([5.0]))\n",
        "print(\"Tiempo estimado con 10 unidades\")\n",
        "print(modeloFalla.predict([10.0]))\n",
        "print(\"Tiempo estimado con 500 unidades\")\n",
        "print(modeloFalla.predict([500.0]))"
      ],
      "execution_count": 84,
      "outputs": [
        {
          "output_type": "stream",
          "text": [
            "Tiempo estimado para realizar el trefilado con 1 unidades\n",
            "[[0.11904535]]\n",
            "Tiempo estimado con 5 unidades\n",
            "[[0.08588292]]\n",
            "Tiempo estimado con 10 unidades\n",
            "[[0.0444299]]\n",
            "Tiempo estimado con 500 unidades\n",
            "[[-4.0179667]]\n"
          ],
          "name": "stdout"
        }
      ]
    },
    {
      "cell_type": "markdown",
      "metadata": {
        "id": "id1W0G9yOw7I",
        "colab_type": "text"
      },
      "source": [
        "##Conclusiones\n",
        "De las anteriores pruebas se puede evidenciar que este ejercicio nos permite realizar simulaciones o predicciones con una precision acertada, sin embargo es claro que este ejercicio se puede realizar con una ecuacion sencilla y la programacion actual para realizar el calculo en funcion de las cantidad de unidades que se vayan a fabricar.\n",
        "\n",
        "La importancia de este tipo de ejercicio y del machine learning es que se puede evidencia la precision que nos ofrece el machine learning y la infinita cantidad de posibilidades que nos puede ofrecer en el futuro, pero tambien en el presente.\n",
        "\n",
        "El machine learning nos permite construir modelos analiticos para la predicciones de fenomenos y comportamiento en funcion de una muestra de datos y de resultados que nos suministre."
      ]
    }
  ]
}